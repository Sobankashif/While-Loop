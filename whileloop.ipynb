{
 "cells": [
  {
   "cell_type": "code",
   "execution_count": null,
   "id": "853bf910-6dd8-42ea-a2b1-06330b38f216",
   "metadata": {},
   "outputs": [],
   "source": []
  },
  {
   "cell_type": "code",
   "execution_count": null,
   "id": "48aeab99-894c-4204-ae03-8ebb283e0887",
   "metadata": {},
   "outputs": [],
   "source": []
  },
  {
   "cell_type": "code",
   "execution_count": null,
   "id": "d13faad7-b8b3-43e1-9744-34a9449d57d4",
   "metadata": {},
   "outputs": [],
   "source": [
    "#name: soban kashif\n",
    "# Reg No: FA24-BBD-083\n",
    "#Assignment No 1"
   ]
  },
  {
   "cell_type": "code",
   "execution_count": 3,
   "id": "20a6623e-8b56-49a3-8fba-bf05b3762756",
   "metadata": {},
   "outputs": [
    {
     "name": "stdout",
     "output_type": "stream",
     "text": [
      "1\n",
      "2\n",
      "3\n",
      "4\n",
      "5\n",
      "6\n",
      "7\n",
      "8\n",
      "9\n",
      "10\n"
     ]
    }
   ],
   "source": [
    "#Question.no:1\n",
    "num = 1\n",
    "while num <= 10:\n",
    "    print(num)\n",
    "    num +=1 "
   ]
  },
  {
   "cell_type": "code",
   "execution_count": 5,
   "id": "cee8b59e-5a38-4e6e-8bb6-c98075693bec",
   "metadata": {},
   "outputs": [
    {
     "name": "stdout",
     "output_type": "stream",
     "text": [
      "2\n",
      "4\n",
      "6\n",
      "8\n",
      "10\n",
      "12\n",
      "14\n",
      "16\n",
      "18\n",
      "20\n"
     ]
    }
   ],
   "source": [
    "#Question.no:2\n",
    "num = 1\n",
    "while num <= 20:\n",
    "    if num % 2==0:\n",
    "        print(num)\n",
    "    num += 1"
   ]
  },
  {
   "cell_type": "code",
   "execution_count": 7,
   "id": "34dda3a1-6266-49ca-b773-3c204fcef402",
   "metadata": {},
   "outputs": [
    {
     "name": "stdout",
     "output_type": "stream",
     "text": [
      "1 2 3 4 5 6 7 8 9 10 \n",
      "The sum of the first 10 natural numbers is: 55\n"
     ]
    }
   ],
   "source": [
    "\n",
    "#Question.no:3\n",
    "num = 1\n",
    "sum = 0\n",
    "while num <= 10:\n",
    "    print(num,end=' ')\n",
    "    sum += num\n",
    "    num += 1\n",
    "print('\\nThe sum of the first 10 natural numbers is:', sum)"
   ]
  },
  {
   "cell_type": "code",
   "execution_count": 11,
   "id": "ff6b0c47-fd5f-4a1b-88cf-507338a34739",
   "metadata": {},
   "outputs": [
    {
     "name": "stdin",
     "output_type": "stream",
     "text": [
      "Enter a number or enter a negative number to exit:  -7\n"
     ]
    },
    {
     "name": "stdout",
     "output_type": "stream",
     "text": [
      "The total sum of the numbers entered  0\n"
     ]
    }
   ],
   "source": [
    "#Question.no:4\n",
    "sum = 0 \n",
    "while True:\n",
    "    num = int(input('Enter a number or enter a negative number to exit: '))\n",
    "    if num < 0:\n",
    "        break\n",
    "    sum += num \n",
    "print('The total sum of the numbers entered ', sum)"
   ]
  },
  {
   "cell_type": "code",
   "execution_count": 13,
   "id": "861e2e08-7cd1-4477-9e94-b0513d413dec",
   "metadata": {},
   "outputs": [
    {
     "name": "stdin",
     "output_type": "stream",
     "text": [
      "Guess a number between 1 to 100 or enter exit to end the game:  2\n"
     ]
    },
    {
     "name": "stdout",
     "output_type": "stream",
     "text": [
      "too low\n"
     ]
    },
    {
     "name": "stdin",
     "output_type": "stream",
     "text": [
      "Guess a number between 1 to 100 or enter exit to end the game:  9\n"
     ]
    },
    {
     "name": "stdout",
     "output_type": "stream",
     "text": [
      "too high\n"
     ]
    },
    {
     "name": "stdin",
     "output_type": "stream",
     "text": [
      "Guess a number between 1 to 100 or enter exit to end the game:  0\n"
     ]
    },
    {
     "name": "stdout",
     "output_type": "stream",
     "text": [
      "too low\n"
     ]
    },
    {
     "name": "stdin",
     "output_type": "stream",
     "text": [
      "Guess a number between 1 to 100 or enter exit to end the game:  68\n"
     ]
    },
    {
     "name": "stdout",
     "output_type": "stream",
     "text": [
      "you guessed it right\n"
     ]
    }
   ],
   "source": [
    "#Question,no:5\n",
    "num = '68'\n",
    "guess = 0\n",
    "while guess != num:\n",
    "    guess = input('Guess a number between 1 to 100 or enter exit to end the game: ')\n",
    "    if guess.lower()=='exit':\n",
    "        print('Game end succesfully')\n",
    "        break\n",
    "    elif guess < num:\n",
    "        print('too low')\n",
    "    elif guess > num:\n",
    "        print('too high')\n",
    "    else:\n",
    "       print('you guessed it right') "
   ]
  },
  {
   "cell_type": "code",
   "execution_count": 15,
   "id": "599fd904-330a-4b4a-b37e-bb848d33b689",
   "metadata": {},
   "outputs": [
    {
     "name": "stdin",
     "output_type": "stream",
     "text": [
      "Enter a positive integer:  3\n"
     ]
    },
    {
     "name": "stdout",
     "output_type": "stream",
     "text": [
      "Factorial: 6\n"
     ]
    }
   ],
   "source": [
    "#Question.no:6\n",
    "num = int(input('Enter a positive integer: '))\n",
    "factorial = 1 \n",
    "x = 1\n",
    "while x <= num: \n",
    "    factorial *= x\n",
    "    x += 1\n",
    "print('Factorial:', factorial)"
   ]
  },
  {
   "cell_type": "code",
   "execution_count": 21,
   "id": "a3973580-7a83-434b-b1a7-eabb5b2659d6",
   "metadata": {},
   "outputs": [
    {
     "name": "stdin",
     "output_type": "stream",
     "text": [
      "Enter a number or('done' to calculate average):  2\n",
      "Enter a number or('done' to calculate average):  5\n",
      "Enter a number or('done' to calculate average):  7\n",
      "Enter a number or('done' to calculate average):  7\n",
      "Enter a number or('done' to calculate average):  8\n",
      "Enter a number or('done' to calculate average):  9\n",
      "Enter a number or('done' to calculate average):  6\n",
      "Enter a number or('done' to calculate average):  4\n",
      "Enter a number or('done' to calculate average):  0\n",
      "Enter a number or('done' to calculate average):  done\n"
     ]
    },
    {
     "name": "stdout",
     "output_type": "stream",
     "text": [
      "Average: 5.333333333333333\n"
     ]
    }
   ],
   "source": [
    "\n",
    "#Question.no:7\n",
    "total = 0\n",
    "count = 0\n",
    "while True:\n",
    "    num = input(\"Enter a number or('done' to calculate average): \")\n",
    "    if num.lower()== \"done\":\n",
    "        break\n",
    "    total += float(num)\n",
    "    count += 1\n",
    "print(\"Average:\", total / count )"
   ]
  },
  {
   "cell_type": "code",
   "execution_count": 23,
   "id": "104a1bd0-cf3d-4555-99c9-7d107fe3b832",
   "metadata": {},
   "outputs": [
    {
     "name": "stdin",
     "output_type": "stream",
     "text": [
      "Enter a number: 0\n"
     ]
    },
    {
     "name": "stdout",
     "output_type": "stream",
     "text": [
      "0 "
     ]
    }
   ],
   "source": [
    "#Question.no:8\n",
    "num = int(input(\"Enter a number:\"))\n",
    "x = 0\n",
    "y = 1\n",
    "while x <= num:\n",
    "    print(x, end=' ')\n",
    "    x, y = y, x + y"
   ]
  },
  {
   "cell_type": "code",
   "execution_count": null,
   "id": "3c1d92cd-c7cd-4e71-9961-05e0b075533c",
   "metadata": {},
   "outputs": [],
   "source": []
  }
 ],
 "metadata": {
  "kernelspec": {
   "display_name": "Python 3 (ipykernel)",
   "language": "python",
   "name": "python3"
  },
  "language_info": {
   "codemirror_mode": {
    "name": "ipython",
    "version": 3
   },
   "file_extension": ".py",
   "mimetype": "text/x-python",
   "name": "python",
   "nbconvert_exporter": "python",
   "pygments_lexer": "ipython3",
   "version": "3.12.4"
  }
 },
 "nbformat": 4,
 "nbformat_minor": 5
}
